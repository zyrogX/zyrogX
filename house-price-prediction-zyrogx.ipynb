{
 "cells": [
  {
   "cell_type": "code",
   "execution_count": 1,
   "id": "93ca3c29",
   "metadata": {
    "_cell_guid": "b1076dfc-b9ad-4769-8c92-a6c4dae69d19",
    "_uuid": "8f2839f25d086af736a60e9eeb907d3b93b6e0e5",
    "execution": {
     "iopub.execute_input": "2025-04-29T06:20:06.842925Z",
     "iopub.status.busy": "2025-04-29T06:20:06.842564Z",
     "iopub.status.idle": "2025-04-29T06:20:08.434240Z",
     "shell.execute_reply": "2025-04-29T06:20:08.433443Z"
    },
    "papermill": {
     "duration": 1.604129,
     "end_time": "2025-04-29T06:20:08.435883",
     "exception": false,
     "start_time": "2025-04-29T06:20:06.831754",
     "status": "completed"
    },
    "tags": []
   },
   "outputs": [],
   "source": [
    "# This Python 3 environment comes with many helpful analytics libraries installed\n",
    "# It is defined by the kaggle/python Docker image: https://github.com/kaggle/docker-python\n",
    "# For example, here's several helpful packages to load\n",
    "\n",
    "import numpy as np # linear algebra\n",
    "import pandas as pd # data processing, CSV file I/O (e.g. pd.read_csv)\n",
    "\n",
    "# Input data files are available in the read-only \"../input/\" directory\n",
    "# For example, running this (by clicking run or pressing Shift+Enter) will list all files under the input directory\n",
    "\n",
    "import os\n",
    "for dirname, _, filenames in os.walk('/kaggle/input/house-price-prediction-dataset/House Price Prediction Dataset.csv'):\n",
    "    for filename in filenames:\n",
    "        print(os.path.join(dirname, filename))\n",
    "\n",
    "# You can write up to 20GB to the current directory (/kaggle/working/) that gets preserved as output when you create a version using \"Save & Run All\" \n",
    "# You can also write temporary files to /kaggle/temp/, but they won't be saved outside of the current session"
   ]
  },
  {
   "cell_type": "code",
   "execution_count": 2,
   "id": "cd1a9003",
   "metadata": {
    "execution": {
     "iopub.execute_input": "2025-04-29T06:20:08.446403Z",
     "iopub.status.busy": "2025-04-29T06:20:08.446077Z",
     "iopub.status.idle": "2025-04-29T06:20:10.058928Z",
     "shell.execute_reply": "2025-04-29T06:20:10.058136Z"
    },
    "papermill": {
     "duration": 1.61948,
     "end_time": "2025-04-29T06:20:10.060439",
     "exception": false,
     "start_time": "2025-04-29T06:20:08.440959",
     "status": "completed"
    },
    "tags": []
   },
   "outputs": [],
   "source": [
    "import pandas as pd\n",
    "import numpy as np\n",
    "import matplotlib.pyplot as plt\n",
    "import seaborn as sns"
   ]
  },
  {
   "cell_type": "code",
   "execution_count": 3,
   "id": "1a02c84b",
   "metadata": {
    "execution": {
     "iopub.execute_input": "2025-04-29T06:20:10.071807Z",
     "iopub.status.busy": "2025-04-29T06:20:10.071145Z",
     "iopub.status.idle": "2025-04-29T06:20:10.154153Z",
     "shell.execute_reply": "2025-04-29T06:20:10.153278Z"
    },
    "papermill": {
     "duration": 0.089469,
     "end_time": "2025-04-29T06:20:10.155702",
     "exception": false,
     "start_time": "2025-04-29T06:20:10.066233",
     "status": "completed"
    },
    "tags": []
   },
   "outputs": [],
   "source": [
    "df = pd.read_csv(r\"/kaggle/input/house-price-prediction-dataset/House Price Prediction Dataset.csv\")"
   ]
  },
  {
   "cell_type": "code",
   "execution_count": 4,
   "id": "c9792a19",
   "metadata": {
    "execution": {
     "iopub.execute_input": "2025-04-29T06:20:10.165545Z",
     "iopub.status.busy": "2025-04-29T06:20:10.165330Z",
     "iopub.status.idle": "2025-04-29T06:20:10.186178Z",
     "shell.execute_reply": "2025-04-29T06:20:10.185501Z"
    },
    "papermill": {
     "duration": 0.026821,
     "end_time": "2025-04-29T06:20:10.187286",
     "exception": false,
     "start_time": "2025-04-29T06:20:10.160465",
     "status": "completed"
    },
    "tags": []
   },
   "outputs": [
    {
     "data": {
      "text/html": [
       "<div>\n",
       "<style scoped>\n",
       "    .dataframe tbody tr th:only-of-type {\n",
       "        vertical-align: middle;\n",
       "    }\n",
       "\n",
       "    .dataframe tbody tr th {\n",
       "        vertical-align: top;\n",
       "    }\n",
       "\n",
       "    .dataframe thead th {\n",
       "        text-align: right;\n",
       "    }\n",
       "</style>\n",
       "<table border=\"1\" class=\"dataframe\">\n",
       "  <thead>\n",
       "    <tr style=\"text-align: right;\">\n",
       "      <th></th>\n",
       "      <th>Id</th>\n",
       "      <th>Area</th>\n",
       "      <th>Bedrooms</th>\n",
       "      <th>Bathrooms</th>\n",
       "      <th>Floors</th>\n",
       "      <th>YearBuilt</th>\n",
       "      <th>Location</th>\n",
       "      <th>Condition</th>\n",
       "      <th>Garage</th>\n",
       "      <th>Price</th>\n",
       "    </tr>\n",
       "  </thead>\n",
       "  <tbody>\n",
       "    <tr>\n",
       "      <th>0</th>\n",
       "      <td>1</td>\n",
       "      <td>1360</td>\n",
       "      <td>5</td>\n",
       "      <td>4</td>\n",
       "      <td>3</td>\n",
       "      <td>1970</td>\n",
       "      <td>Downtown</td>\n",
       "      <td>Excellent</td>\n",
       "      <td>No</td>\n",
       "      <td>149919</td>\n",
       "    </tr>\n",
       "    <tr>\n",
       "      <th>1</th>\n",
       "      <td>2</td>\n",
       "      <td>4272</td>\n",
       "      <td>5</td>\n",
       "      <td>4</td>\n",
       "      <td>3</td>\n",
       "      <td>1958</td>\n",
       "      <td>Downtown</td>\n",
       "      <td>Excellent</td>\n",
       "      <td>No</td>\n",
       "      <td>424998</td>\n",
       "    </tr>\n",
       "    <tr>\n",
       "      <th>2</th>\n",
       "      <td>3</td>\n",
       "      <td>3592</td>\n",
       "      <td>2</td>\n",
       "      <td>2</td>\n",
       "      <td>3</td>\n",
       "      <td>1938</td>\n",
       "      <td>Downtown</td>\n",
       "      <td>Good</td>\n",
       "      <td>No</td>\n",
       "      <td>266746</td>\n",
       "    </tr>\n",
       "    <tr>\n",
       "      <th>3</th>\n",
       "      <td>4</td>\n",
       "      <td>966</td>\n",
       "      <td>4</td>\n",
       "      <td>2</td>\n",
       "      <td>2</td>\n",
       "      <td>1902</td>\n",
       "      <td>Suburban</td>\n",
       "      <td>Fair</td>\n",
       "      <td>Yes</td>\n",
       "      <td>244020</td>\n",
       "    </tr>\n",
       "    <tr>\n",
       "      <th>4</th>\n",
       "      <td>5</td>\n",
       "      <td>4926</td>\n",
       "      <td>1</td>\n",
       "      <td>4</td>\n",
       "      <td>2</td>\n",
       "      <td>1975</td>\n",
       "      <td>Downtown</td>\n",
       "      <td>Fair</td>\n",
       "      <td>Yes</td>\n",
       "      <td>636056</td>\n",
       "    </tr>\n",
       "  </tbody>\n",
       "</table>\n",
       "</div>"
      ],
      "text/plain": [
       "   Id  Area  Bedrooms  Bathrooms  Floors  YearBuilt  Location  Condition  \\\n",
       "0   1  1360         5          4       3       1970  Downtown  Excellent   \n",
       "1   2  4272         5          4       3       1958  Downtown  Excellent   \n",
       "2   3  3592         2          2       3       1938  Downtown       Good   \n",
       "3   4   966         4          2       2       1902  Suburban       Fair   \n",
       "4   5  4926         1          4       2       1975  Downtown       Fair   \n",
       "\n",
       "  Garage   Price  \n",
       "0     No  149919  \n",
       "1     No  424998  \n",
       "2     No  266746  \n",
       "3    Yes  244020  \n",
       "4    Yes  636056  "
      ]
     },
     "execution_count": 4,
     "metadata": {},
     "output_type": "execute_result"
    }
   ],
   "source": [
    "df.head(5)"
   ]
  },
  {
   "cell_type": "markdown",
   "id": "57fb473f",
   "metadata": {
    "papermill": {
     "duration": 0.004388,
     "end_time": "2025-04-29T06:20:10.196375",
     "exception": false,
     "start_time": "2025-04-29T06:20:10.191987",
     "status": "completed"
    },
    "tags": []
   },
   "source": [
    "**Clean Missing Values (If Any)**"
   ]
  },
  {
   "cell_type": "code",
   "execution_count": 5,
   "id": "07bacb4f",
   "metadata": {
    "execution": {
     "iopub.execute_input": "2025-04-29T06:20:10.206016Z",
     "iopub.status.busy": "2025-04-29T06:20:10.205815Z",
     "iopub.status.idle": "2025-04-29T06:20:10.227646Z",
     "shell.execute_reply": "2025-04-29T06:20:10.226886Z"
    },
    "papermill": {
     "duration": 0.02785,
     "end_time": "2025-04-29T06:20:10.228680",
     "exception": false,
     "start_time": "2025-04-29T06:20:10.200830",
     "status": "completed"
    },
    "tags": []
   },
   "outputs": [
    {
     "name": "stdout",
     "output_type": "stream",
     "text": [
      "<class 'pandas.core.frame.DataFrame'>\n",
      "RangeIndex: 2000 entries, 0 to 1999\n",
      "Data columns (total 10 columns):\n",
      " #   Column     Non-Null Count  Dtype \n",
      "---  ------     --------------  ----- \n",
      " 0   Id         2000 non-null   int64 \n",
      " 1   Area       2000 non-null   int64 \n",
      " 2   Bedrooms   2000 non-null   int64 \n",
      " 3   Bathrooms  2000 non-null   int64 \n",
      " 4   Floors     2000 non-null   int64 \n",
      " 5   YearBuilt  2000 non-null   int64 \n",
      " 6   Location   2000 non-null   object\n",
      " 7   Condition  2000 non-null   object\n",
      " 8   Garage     2000 non-null   object\n",
      " 9   Price      2000 non-null   int64 \n",
      "dtypes: int64(7), object(3)\n",
      "memory usage: 156.4+ KB\n"
     ]
    }
   ],
   "source": [
    "df.info()\n"
   ]
  },
  {
   "cell_type": "code",
   "execution_count": 6,
   "id": "4f188ff6",
   "metadata": {
    "execution": {
     "iopub.execute_input": "2025-04-29T06:20:10.238734Z",
     "iopub.status.busy": "2025-04-29T06:20:10.238315Z",
     "iopub.status.idle": "2025-04-29T06:20:10.264404Z",
     "shell.execute_reply": "2025-04-29T06:20:10.263680Z"
    },
    "papermill": {
     "duration": 0.032128,
     "end_time": "2025-04-29T06:20:10.265495",
     "exception": false,
     "start_time": "2025-04-29T06:20:10.233367",
     "status": "completed"
    },
    "tags": []
   },
   "outputs": [
    {
     "data": {
      "text/html": [
       "<div>\n",
       "<style scoped>\n",
       "    .dataframe tbody tr th:only-of-type {\n",
       "        vertical-align: middle;\n",
       "    }\n",
       "\n",
       "    .dataframe tbody tr th {\n",
       "        vertical-align: top;\n",
       "    }\n",
       "\n",
       "    .dataframe thead th {\n",
       "        text-align: right;\n",
       "    }\n",
       "</style>\n",
       "<table border=\"1\" class=\"dataframe\">\n",
       "  <thead>\n",
       "    <tr style=\"text-align: right;\">\n",
       "      <th></th>\n",
       "      <th>Id</th>\n",
       "      <th>Area</th>\n",
       "      <th>Bedrooms</th>\n",
       "      <th>Bathrooms</th>\n",
       "      <th>Floors</th>\n",
       "      <th>YearBuilt</th>\n",
       "      <th>Price</th>\n",
       "    </tr>\n",
       "  </thead>\n",
       "  <tbody>\n",
       "    <tr>\n",
       "      <th>count</th>\n",
       "      <td>2000.000000</td>\n",
       "      <td>2000.000000</td>\n",
       "      <td>2000.000000</td>\n",
       "      <td>2000.00000</td>\n",
       "      <td>2000.000000</td>\n",
       "      <td>2000.000000</td>\n",
       "      <td>2000.000000</td>\n",
       "    </tr>\n",
       "    <tr>\n",
       "      <th>mean</th>\n",
       "      <td>1000.500000</td>\n",
       "      <td>2786.209500</td>\n",
       "      <td>3.003500</td>\n",
       "      <td>2.55250</td>\n",
       "      <td>1.993500</td>\n",
       "      <td>1961.446000</td>\n",
       "      <td>537676.855000</td>\n",
       "    </tr>\n",
       "    <tr>\n",
       "      <th>std</th>\n",
       "      <td>577.494589</td>\n",
       "      <td>1295.146799</td>\n",
       "      <td>1.424606</td>\n",
       "      <td>1.10899</td>\n",
       "      <td>0.809188</td>\n",
       "      <td>35.926695</td>\n",
       "      <td>276428.845719</td>\n",
       "    </tr>\n",
       "    <tr>\n",
       "      <th>min</th>\n",
       "      <td>1.000000</td>\n",
       "      <td>501.000000</td>\n",
       "      <td>1.000000</td>\n",
       "      <td>1.00000</td>\n",
       "      <td>1.000000</td>\n",
       "      <td>1900.000000</td>\n",
       "      <td>50005.000000</td>\n",
       "    </tr>\n",
       "    <tr>\n",
       "      <th>25%</th>\n",
       "      <td>500.750000</td>\n",
       "      <td>1653.000000</td>\n",
       "      <td>2.000000</td>\n",
       "      <td>2.00000</td>\n",
       "      <td>1.000000</td>\n",
       "      <td>1930.000000</td>\n",
       "      <td>300098.000000</td>\n",
       "    </tr>\n",
       "    <tr>\n",
       "      <th>50%</th>\n",
       "      <td>1000.500000</td>\n",
       "      <td>2833.000000</td>\n",
       "      <td>3.000000</td>\n",
       "      <td>3.00000</td>\n",
       "      <td>2.000000</td>\n",
       "      <td>1961.000000</td>\n",
       "      <td>539254.000000</td>\n",
       "    </tr>\n",
       "    <tr>\n",
       "      <th>75%</th>\n",
       "      <td>1500.250000</td>\n",
       "      <td>3887.500000</td>\n",
       "      <td>4.000000</td>\n",
       "      <td>4.00000</td>\n",
       "      <td>3.000000</td>\n",
       "      <td>1993.000000</td>\n",
       "      <td>780086.000000</td>\n",
       "    </tr>\n",
       "    <tr>\n",
       "      <th>max</th>\n",
       "      <td>2000.000000</td>\n",
       "      <td>4999.000000</td>\n",
       "      <td>5.000000</td>\n",
       "      <td>4.00000</td>\n",
       "      <td>3.000000</td>\n",
       "      <td>2023.000000</td>\n",
       "      <td>999656.000000</td>\n",
       "    </tr>\n",
       "  </tbody>\n",
       "</table>\n",
       "</div>"
      ],
      "text/plain": [
       "                Id         Area     Bedrooms   Bathrooms       Floors  \\\n",
       "count  2000.000000  2000.000000  2000.000000  2000.00000  2000.000000   \n",
       "mean   1000.500000  2786.209500     3.003500     2.55250     1.993500   \n",
       "std     577.494589  1295.146799     1.424606     1.10899     0.809188   \n",
       "min       1.000000   501.000000     1.000000     1.00000     1.000000   \n",
       "25%     500.750000  1653.000000     2.000000     2.00000     1.000000   \n",
       "50%    1000.500000  2833.000000     3.000000     3.00000     2.000000   \n",
       "75%    1500.250000  3887.500000     4.000000     4.00000     3.000000   \n",
       "max    2000.000000  4999.000000     5.000000     4.00000     3.000000   \n",
       "\n",
       "         YearBuilt          Price  \n",
       "count  2000.000000    2000.000000  \n",
       "mean   1961.446000  537676.855000  \n",
       "std      35.926695  276428.845719  \n",
       "min    1900.000000   50005.000000  \n",
       "25%    1930.000000  300098.000000  \n",
       "50%    1961.000000  539254.000000  \n",
       "75%    1993.000000  780086.000000  \n",
       "max    2023.000000  999656.000000  "
      ]
     },
     "execution_count": 6,
     "metadata": {},
     "output_type": "execute_result"
    }
   ],
   "source": [
    "df.describe()"
   ]
  },
  {
   "cell_type": "markdown",
   "id": "d2ec575b",
   "metadata": {
    "papermill": {
     "duration": 0.0049,
     "end_time": "2025-04-29T06:20:10.275324",
     "exception": false,
     "start_time": "2025-04-29T06:20:10.270424",
     "status": "completed"
    },
    "tags": []
   },
   "source": [
    "# Data Visualization\n"
   ]
  },
  {
   "cell_type": "code",
   "execution_count": 7,
   "id": "cd5a5a41",
   "metadata": {
    "execution": {
     "iopub.execute_input": "2025-04-29T06:20:10.286368Z",
     "iopub.status.busy": "2025-04-29T06:20:10.285928Z",
     "iopub.status.idle": "2025-04-29T06:20:10.524386Z",
     "shell.execute_reply": "2025-04-29T06:20:10.523609Z"
    },
    "papermill": {
     "duration": 0.245156,
     "end_time": "2025-04-29T06:20:10.525570",
     "exception": false,
     "start_time": "2025-04-29T06:20:10.280414",
     "status": "completed"
    },
    "tags": []
   },
   "outputs": [
    {
     "data": {
      "image/png": "[encoded data removed]",
      "text/plain": [
       "<Figure size 640x480 with 1 Axes>"
      ]
     },
     "metadata": {},
     "output_type": "display_data"
    }
   ],
   "source": [
    "sns.countplot(x = \"Location\",data = df)\n",
    "plt.title(\"Location Counts\")\n",
    "plt.show()"
   ]
  },
  {
   "cell_type": "code",
   "execution_count": 8,
   "id": "b2024057",
   "metadata": {
    "execution": {
     "iopub.execute_input": "2025-04-29T06:20:10.537146Z",
     "iopub.status.busy": "2025-04-29T06:20:10.536591Z",
     "iopub.status.idle": "2025-04-29T06:20:10.654143Z",
     "shell.execute_reply": "2025-04-29T06:20:10.653321Z"
    },
    "papermill": {
     "duration": 0.124602,
     "end_time": "2025-04-29T06:20:10.655409",
     "exception": false,
     "start_time": "2025-04-29T06:20:10.530807",
     "status": "completed"
    },
    "tags": []
   },
   "outputs": [
    {
     "data": {
      "image/png": "[encoded data removed]",
      "text/plain": [
       "<Figure size 640x480 with 1 Axes>"
      ]
     },
     "metadata": {},
     "output_type": "display_data"
    }
   ],
   "source": [
    "sns.countplot(x = \"Condition\",data = df)\n",
    "plt.title(\"Condition Counts\")\n",
    "plt.show()"
   ]
  },
  {
   "cell_type": "code",
   "execution_count": 9,
   "id": "6fd91ab7",
   "metadata": {
    "execution": {
     "iopub.execute_input": "2025-04-29T06:20:10.667542Z",
     "iopub.status.busy": "2025-04-29T06:20:10.667071Z",
     "iopub.status.idle": "2025-04-29T06:20:10.799361Z",
     "shell.execute_reply": "2025-04-29T06:20:10.798664Z"
    },
    "papermill": {
     "duration": 0.139494,
     "end_time": "2025-04-29T06:20:10.800490",
     "exception": false,
     "start_time": "2025-04-29T06:20:10.660996",
     "status": "completed"
    },
    "tags": []
   },
   "outputs": [
    {
     "data": {
      "image/png": "[encoded data removed]",
      "text/plain": [
       "<Figure size 640x480 with 1 Axes>"
      ]
     },
     "metadata": {},
     "output_type": "display_data"
    }
   ],
   "source": [
    "sns.countplot(x = \"Bedrooms\",data = df)\n",
    "plt.title(\"Bedrooms Counts\")\n",
    "plt.show()"
   ]
  },
  {
   "cell_type": "code",
   "execution_count": 10,
   "id": "41fab2b8",
   "metadata": {
    "execution": {
     "iopub.execute_input": "2025-04-29T06:20:10.812931Z",
     "iopub.status.busy": "2025-04-29T06:20:10.812749Z",
     "iopub.status.idle": "2025-04-29T06:20:10.952044Z",
     "shell.execute_reply": "2025-04-29T06:20:10.951422Z"
    },
    "papermill": {
     "duration": 0.146683,
     "end_time": "2025-04-29T06:20:10.953176",
     "exception": false,
     "start_time": "2025-04-29T06:20:10.806493",
     "status": "completed"
    },
    "tags": []
   },
   "outputs": [
    {
     "data": {
      "image/png": "[encoded data removed]",
      "text/plain": [
       "<Figure size 640x480 with 1 Axes>"
      ]
     },
     "metadata": {},
     "output_type": "display_data"
    }
   ],
   "source": [
    "sns.boxplot(x='Bedrooms', y='Price', data=df)\n",
    "plt.title(\"Price by Number of Bedrooms\")\n",
    "plt.show()"
   ]
  },
  {
   "cell_type": "code",
   "execution_count": 11,
   "id": "6094a62f",
   "metadata": {
    "execution": {
     "iopub.execute_input": "2025-04-29T06:20:10.966127Z",
     "iopub.status.busy": "2025-04-29T06:20:10.965949Z",
     "iopub.status.idle": "2025-04-29T06:20:11.098103Z",
     "shell.execute_reply": "2025-04-29T06:20:11.097415Z"
    },
    "papermill": {
     "duration": 0.139764,
     "end_time": "2025-04-29T06:20:11.099242",
     "exception": false,
     "start_time": "2025-04-29T06:20:10.959478",
     "status": "completed"
    },
    "tags": []
   },
   "outputs": [
    {
     "data": {
      "image/png": "[encoded data removed]",
      "text/plain": [
       "<Figure size 640x480 with 1 Axes>"
      ]
     },
     "metadata": {},
     "output_type": "display_data"
    }
   ],
   "source": [
    "sns.boxplot(x='Location', y='Price', data=df)\n",
    "plt.xticks(rotation=45)\n",
    "plt.title(\"Price Distribution by Location\")\n",
    "plt.show()\n"
   ]
  },
  {
   "cell_type": "markdown",
   "id": "fcc14caf",
   "metadata": {
    "papermill": {
     "duration": 0.006562,
     "end_time": "2025-04-29T06:20:11.112814",
     "exception": false,
     "start_time": "2025-04-29T06:20:11.106252",
     "status": "completed"
    },
    "tags": []
   },
   "source": [
    "# Converting Categorical Data to Numerical Data\n"
   ]
  },
  {
   "cell_type": "code",
   "execution_count": 12,
   "id": "a3d92aad",
   "metadata": {
    "execution": {
     "iopub.execute_input": "2025-04-29T06:20:11.126856Z",
     "iopub.status.busy": "2025-04-29T06:20:11.126642Z",
     "iopub.status.idle": "2025-04-29T06:20:11.285955Z",
     "shell.execute_reply": "2025-04-29T06:20:11.285449Z"
    },
    "papermill": {
     "duration": 0.167615,
     "end_time": "2025-04-29T06:20:11.287042",
     "exception": false,
     "start_time": "2025-04-29T06:20:11.119427",
     "status": "completed"
    },
    "tags": []
   },
   "outputs": [],
   "source": [
    "from sklearn.preprocessing import LabelEncoder\n",
    "from sklearn.preprocessing import StandardScaler"
   ]
  },
  {
   "cell_type": "code",
   "execution_count": 13,
   "id": "979c3053",
   "metadata": {
    "execution": {
     "iopub.execute_input": "2025-04-29T06:20:11.301982Z",
     "iopub.status.busy": "2025-04-29T06:20:11.301771Z",
     "iopub.status.idle": "2025-04-29T06:20:11.306058Z",
     "shell.execute_reply": "2025-04-29T06:20:11.305560Z"
    },
    "papermill": {
     "duration": 0.012755,
     "end_time": "2025-04-29T06:20:11.307050",
     "exception": false,
     "start_time": "2025-04-29T06:20:11.294295",
     "status": "completed"
    },
    "tags": []
   },
   "outputs": [],
   "source": [
    "le_condition=LabelEncoder()\n",
    "df['Condition']=le_condition.fit_transform(df[\"Condition\"])\n"
   ]
  },
  {
   "cell_type": "code",
   "execution_count": 14,
   "id": "e5b93805",
   "metadata": {
    "execution": {
     "iopub.execute_input": "2025-04-29T06:20:11.321557Z",
     "iopub.status.busy": "2025-04-29T06:20:11.321385Z",
     "iopub.status.idle": "2025-04-29T06:20:11.325025Z",
     "shell.execute_reply": "2025-04-29T06:20:11.324519Z"
    },
    "papermill": {
     "duration": 0.012034,
     "end_time": "2025-04-29T06:20:11.326092",
     "exception": false,
     "start_time": "2025-04-29T06:20:11.314058",
     "status": "completed"
    },
    "tags": []
   },
   "outputs": [],
   "source": [
    "le_garage=LabelEncoder()\n",
    "df['Garage']=le_garage.fit_transform(df['Garage'])"
   ]
  },
  {
   "cell_type": "markdown",
   "id": "f453bca1",
   "metadata": {
    "papermill": {
     "duration": 0.006524,
     "end_time": "2025-04-29T06:20:11.339514",
     "exception": false,
     "start_time": "2025-04-29T06:20:11.332990",
     "status": "completed"
    },
    "tags": []
   },
   "source": [
    "*One Hot Encoding on Location Because this is not Ordinal Data*"
   ]
  },
  {
   "cell_type": "code",
   "execution_count": 15,
   "id": "2f9b6e23",
   "metadata": {
    "execution": {
     "iopub.execute_input": "2025-04-29T06:20:11.353540Z",
     "iopub.status.busy": "2025-04-29T06:20:11.353361Z",
     "iopub.status.idle": "2025-04-29T06:20:11.360528Z",
     "shell.execute_reply": "2025-04-29T06:20:11.359987Z"
    },
    "papermill": {
     "duration": 0.015491,
     "end_time": "2025-04-29T06:20:11.361591",
     "exception": false,
     "start_time": "2025-04-29T06:20:11.346100",
     "status": "completed"
    },
    "tags": []
   },
   "outputs": [],
   "source": [
    "df=pd.get_dummies(df,columns=['Location'])"
   ]
  },
  {
   "cell_type": "code",
   "execution_count": 16,
   "id": "78a77d3d",
   "metadata": {
    "execution": {
     "iopub.execute_input": "2025-04-29T06:20:11.375790Z",
     "iopub.status.busy": "2025-04-29T06:20:11.375586Z",
     "iopub.status.idle": "2025-04-29T06:20:11.381798Z",
     "shell.execute_reply": "2025-04-29T06:20:11.381281Z"
    },
    "papermill": {
     "duration": 0.014371,
     "end_time": "2025-04-29T06:20:11.382822",
     "exception": false,
     "start_time": "2025-04-29T06:20:11.368451",
     "status": "completed"
    },
    "tags": []
   },
   "outputs": [],
   "source": [
    "df[['Location_Downtown', 'Location_Rural', 'Location_Suburban','Location_Urban']] = \\\n",
    "    df[['Location_Downtown', 'Location_Rural', 'Location_Suburban','Location_Urban']].astype(int)\n"
   ]
  },
  {
   "cell_type": "code",
   "execution_count": 17,
   "id": "74441859",
   "metadata": {
    "execution": {
     "iopub.execute_input": "2025-04-29T06:20:11.397888Z",
     "iopub.status.busy": "2025-04-29T06:20:11.397241Z",
     "iopub.status.idle": "2025-04-29T06:20:11.406093Z",
     "shell.execute_reply": "2025-04-29T06:20:11.405495Z"
    },
    "papermill": {
     "duration": 0.017356,
     "end_time": "2025-04-29T06:20:11.407175",
     "exception": false,
     "start_time": "2025-04-29T06:20:11.389819",
     "status": "completed"
    },
    "tags": []
   },
   "outputs": [
    {
     "data": {
      "text/html": [
       "<div>\n",
       "<style scoped>\n",
       "    .dataframe tbody tr th:only-of-type {\n",
       "        vertical-align: middle;\n",
       "    }\n",
       "\n",
       "    .dataframe tbody tr th {\n",
       "        vertical-align: top;\n",
       "    }\n",
       "\n",
       "    .dataframe thead th {\n",
       "        text-align: right;\n",
       "    }\n",
       "</style>\n",
       "<table border=\"1\" class=\"dataframe\">\n",
       "  <thead>\n",
       "    <tr style=\"text-align: right;\">\n",
       "      <th></th>\n",
       "      <th>Id</th>\n",
       "      <th>Area</th>\n",
       "      <th>Bedrooms</th>\n",
       "      <th>Bathrooms</th>\n",
       "      <th>Floors</th>\n",
       "      <th>YearBuilt</th>\n",
       "      <th>Condition</th>\n",
       "      <th>Garage</th>\n",
       "      <th>Price</th>\n",
       "      <th>Location_Downtown</th>\n",
       "      <th>Location_Rural</th>\n",
       "      <th>Location_Suburban</th>\n",
       "      <th>Location_Urban</th>\n",
       "    </tr>\n",
       "  </thead>\n",
       "  <tbody>\n",
       "    <tr>\n",
       "      <th>0</th>\n",
       "      <td>1</td>\n",
       "      <td>1360</td>\n",
       "      <td>5</td>\n",
       "      <td>4</td>\n",
       "      <td>3</td>\n",
       "      <td>1970</td>\n",
       "      <td>0</td>\n",
       "      <td>0</td>\n",
       "      <td>149919</td>\n",
       "      <td>1</td>\n",
       "      <td>0</td>\n",
       "      <td>0</td>\n",
       "      <td>0</td>\n",
       "    </tr>\n",
       "    <tr>\n",
       "      <th>1</th>\n",
       "      <td>2</td>\n",
       "      <td>4272</td>\n",
       "      <td>5</td>\n",
       "      <td>4</td>\n",
       "      <td>3</td>\n",
       "      <td>1958</td>\n",
       "      <td>0</td>\n",
       "      <td>0</td>\n",
       "      <td>424998</td>\n",
       "      <td>1</td>\n",
       "      <td>0</td>\n",
       "      <td>0</td>\n",
       "      <td>0</td>\n",
       "    </tr>\n",
       "    <tr>\n",
       "      <th>2</th>\n",
       "      <td>3</td>\n",
       "      <td>3592</td>\n",
       "      <td>2</td>\n",
       "      <td>2</td>\n",
       "      <td>3</td>\n",
       "      <td>1938</td>\n",
       "      <td>2</td>\n",
       "      <td>0</td>\n",
       "      <td>266746</td>\n",
       "      <td>1</td>\n",
       "      <td>0</td>\n",
       "      <td>0</td>\n",
       "      <td>0</td>\n",
       "    </tr>\n",
       "    <tr>\n",
       "      <th>3</th>\n",
       "      <td>4</td>\n",
       "      <td>966</td>\n",
       "      <td>4</td>\n",
       "      <td>2</td>\n",
       "      <td>2</td>\n",
       "      <td>1902</td>\n",
       "      <td>1</td>\n",
       "      <td>1</td>\n",
       "      <td>244020</td>\n",
       "      <td>0</td>\n",
       "      <td>0</td>\n",
       "      <td>1</td>\n",
       "      <td>0</td>\n",
       "    </tr>\n",
       "    <tr>\n",
       "      <th>4</th>\n",
       "      <td>5</td>\n",
       "      <td>4926</td>\n",
       "      <td>1</td>\n",
       "      <td>4</td>\n",
       "      <td>2</td>\n",
       "      <td>1975</td>\n",
       "      <td>1</td>\n",
       "      <td>1</td>\n",
       "      <td>636056</td>\n",
       "      <td>1</td>\n",
       "      <td>0</td>\n",
       "      <td>0</td>\n",
       "      <td>0</td>\n",
       "    </tr>\n",
       "  </tbody>\n",
       "</table>\n",
       "</div>"
      ],
      "text/plain": [
       "   Id  Area  Bedrooms  Bathrooms  Floors  YearBuilt  Condition  Garage  \\\n",
       "0   1  1360         5          4       3       1970          0       0   \n",
       "1   2  4272         5          4       3       1958          0       0   \n",
       "2   3  3592         2          2       3       1938          2       0   \n",
       "3   4   966         4          2       2       1902          1       1   \n",
       "4   5  4926         1          4       2       1975          1       1   \n",
       "\n",
       "    Price  Location_Downtown  Location_Rural  Location_Suburban  \\\n",
       "0  149919                  1               0                  0   \n",
       "1  424998                  1               0                  0   \n",
       "2  266746                  1               0                  0   \n",
       "3  244020                  0               0                  1   \n",
       "4  636056                  1               0                  0   \n",
       "\n",
       "   Location_Urban  \n",
       "0               0  \n",
       "1               0  \n",
       "2               0  \n",
       "3               0  \n",
       "4               0  "
      ]
     },
     "execution_count": 17,
     "metadata": {},
     "output_type": "execute_result"
    }
   ],
   "source": [
    "df.head(5)"
   ]
  },
  {
   "cell_type": "code",
   "execution_count": 18,
   "id": "71fe5177",
   "metadata": {
    "execution": {
     "iopub.execute_input": "2025-04-29T06:20:11.422455Z",
     "iopub.status.busy": "2025-04-29T06:20:11.421941Z",
     "iopub.status.idle": "2025-04-29T06:20:11.425841Z",
     "shell.execute_reply": "2025-04-29T06:20:11.425313Z"
    },
    "papermill": {
     "duration": 0.012293,
     "end_time": "2025-04-29T06:20:11.426872",
     "exception": false,
     "start_time": "2025-04-29T06:20:11.414579",
     "status": "completed"
    },
    "tags": []
   },
   "outputs": [],
   "source": [
    "df.drop(columns=[\"Id\"],inplace = True,)"
   ]
  },
  {
   "cell_type": "code",
   "execution_count": 19,
   "id": "cd538c05",
   "metadata": {
    "execution": {
     "iopub.execute_input": "2025-04-29T06:20:11.441780Z",
     "iopub.status.busy": "2025-04-29T06:20:11.441573Z",
     "iopub.status.idle": "2025-04-29T06:20:11.445854Z",
     "shell.execute_reply": "2025-04-29T06:20:11.445163Z"
    },
    "papermill": {
     "duration": 0.012964,
     "end_time": "2025-04-29T06:20:11.446964",
     "exception": false,
     "start_time": "2025-04-29T06:20:11.434000",
     "status": "completed"
    },
    "tags": []
   },
   "outputs": [],
   "source": [
    "x = df.drop(columns=['Price'])\n",
    "y = df[\"Price\"]\n"
   ]
  },
  {
   "cell_type": "markdown",
   "id": "b9d0d2aa",
   "metadata": {
    "papermill": {
     "duration": 0.006838,
     "end_time": "2025-04-29T06:20:11.461051",
     "exception": false,
     "start_time": "2025-04-29T06:20:11.454213",
     "status": "completed"
    },
    "tags": []
   },
   "source": [
    ">From: sklearn.preprocessing import StandartScaler\n",
    "\n",
    ">Purpose:\n",
    "👉 Scale numerical features so that they have:\n",
    "\n",
    ">Mean = 0\n",
    "\n",
    ">Standard deviation = 1\n",
    "\n",
    ">This helps ML models that are sensitive to feature scales — like Linear Regression, SVM, KNN, Neural Networks. "
   ]
  },
  {
   "cell_type": "code",
   "execution_count": 20,
   "id": "54e0f8d5",
   "metadata": {
    "execution": {
     "iopub.execute_input": "2025-04-29T06:20:11.475997Z",
     "iopub.status.busy": "2025-04-29T06:20:11.475795Z",
     "iopub.status.idle": "2025-04-29T06:20:11.504761Z",
     "shell.execute_reply": "2025-04-29T06:20:11.504088Z"
    },
    "papermill": {
     "duration": 0.03796,
     "end_time": "2025-04-29T06:20:11.505876",
     "exception": false,
     "start_time": "2025-04-29T06:20:11.467916",
     "status": "completed"
    },
    "tags": []
   },
   "outputs": [],
   "source": [
    " scaler = StandardScaler()\n",
    "x = scaler.fit_transform(df)"
   ]
  },
  {
   "cell_type": "code",
   "execution_count": 21,
   "id": "880b6e7b",
   "metadata": {
    "execution": {
     "iopub.execute_input": "2025-04-29T06:20:11.520534Z",
     "iopub.status.busy": "2025-04-29T06:20:11.520327Z",
     "iopub.status.idle": "2025-04-29T06:20:11.523275Z",
     "shell.execute_reply": "2025-04-29T06:20:11.522785Z"
    },
    "papermill": {
     "duration": 0.011411,
     "end_time": "2025-04-29T06:20:11.524194",
     "exception": false,
     "start_time": "2025-04-29T06:20:11.512783",
     "status": "completed"
    },
    "tags": []
   },
   "outputs": [],
   "source": [
    "x = pd.DataFrame(x, columns=df.columns)\n"
   ]
  },
  {
   "cell_type": "code",
   "execution_count": 22,
   "id": "940b636c",
   "metadata": {
    "execution": {
     "iopub.execute_input": "2025-04-29T06:20:11.539000Z",
     "iopub.status.busy": "2025-04-29T06:20:11.538808Z",
     "iopub.status.idle": "2025-04-29T06:20:11.549660Z",
     "shell.execute_reply": "2025-04-29T06:20:11.549107Z"
    },
    "papermill": {
     "duration": 0.019514,
     "end_time": "2025-04-29T06:20:11.550753",
     "exception": false,
     "start_time": "2025-04-29T06:20:11.531239",
     "status": "completed"
    },
    "tags": []
   },
   "outputs": [
    {
     "data": {
      "text/html": [
       "<div>\n",
       "<style scoped>\n",
       "    .dataframe tbody tr th:only-of-type {\n",
       "        vertical-align: middle;\n",
       "    }\n",
       "\n",
       "    .dataframe tbody tr th {\n",
       "        vertical-align: top;\n",
       "    }\n",
       "\n",
       "    .dataframe thead th {\n",
       "        text-align: right;\n",
       "    }\n",
       "</style>\n",
       "<table border=\"1\" class=\"dataframe\">\n",
       "  <thead>\n",
       "    <tr style=\"text-align: right;\">\n",
       "      <th></th>\n",
       "      <th>Area</th>\n",
       "      <th>Bedrooms</th>\n",
       "      <th>Bathrooms</th>\n",
       "      <th>Floors</th>\n",
       "      <th>YearBuilt</th>\n",
       "      <th>Condition</th>\n",
       "      <th>Garage</th>\n",
       "      <th>Price</th>\n",
       "      <th>Location_Downtown</th>\n",
       "      <th>Location_Rural</th>\n",
       "      <th>Location_Suburban</th>\n",
       "      <th>Location_Urban</th>\n",
       "    </tr>\n",
       "  </thead>\n",
       "  <tbody>\n",
       "    <tr>\n",
       "      <th>0</th>\n",
       "      <td>-1.101471</td>\n",
       "      <td>1.401791</td>\n",
       "      <td>1.305568</td>\n",
       "      <td>1.244151</td>\n",
       "      <td>0.238155</td>\n",
       "      <td>-1.316267</td>\n",
       "      <td>-0.962695</td>\n",
       "      <td>-1.403091</td>\n",
       "      <td>1.607554</td>\n",
       "      <td>-0.557329</td>\n",
       "      <td>-0.564262</td>\n",
       "      <td>-0.565802</td>\n",
       "    </tr>\n",
       "    <tr>\n",
       "      <th>1</th>\n",
       "      <td>1.147485</td>\n",
       "      <td>1.401791</td>\n",
       "      <td>1.305568</td>\n",
       "      <td>1.244151</td>\n",
       "      <td>-0.095942</td>\n",
       "      <td>-1.316267</td>\n",
       "      <td>-0.962695</td>\n",
       "      <td>-0.407725</td>\n",
       "      <td>1.607554</td>\n",
       "      <td>-0.557329</td>\n",
       "      <td>-0.564262</td>\n",
       "      <td>-0.565802</td>\n",
       "    </tr>\n",
       "    <tr>\n",
       "      <th>2</th>\n",
       "      <td>0.622317</td>\n",
       "      <td>-0.704581</td>\n",
       "      <td>-0.498326</td>\n",
       "      <td>1.244151</td>\n",
       "      <td>-0.652770</td>\n",
       "      <td>0.460072</td>\n",
       "      <td>-0.962695</td>\n",
       "      <td>-0.980356</td>\n",
       "      <td>1.607554</td>\n",
       "      <td>-0.557329</td>\n",
       "      <td>-0.564262</td>\n",
       "      <td>-0.565802</td>\n",
       "    </tr>\n",
       "    <tr>\n",
       "      <th>3</th>\n",
       "      <td>-1.405759</td>\n",
       "      <td>0.699667</td>\n",
       "      <td>-0.498326</td>\n",
       "      <td>0.008035</td>\n",
       "      <td>-1.655061</td>\n",
       "      <td>-0.428098</td>\n",
       "      <td>1.038750</td>\n",
       "      <td>-1.062589</td>\n",
       "      <td>-0.622063</td>\n",
       "      <td>-0.557329</td>\n",
       "      <td>1.772226</td>\n",
       "      <td>-0.565802</td>\n",
       "    </tr>\n",
       "    <tr>\n",
       "      <th>4</th>\n",
       "      <td>1.652574</td>\n",
       "      <td>-1.406705</td>\n",
       "      <td>1.305568</td>\n",
       "      <td>0.008035</td>\n",
       "      <td>0.377363</td>\n",
       "      <td>-0.428098</td>\n",
       "      <td>1.038750</td>\n",
       "      <td>0.355982</td>\n",
       "      <td>1.607554</td>\n",
       "      <td>-0.557329</td>\n",
       "      <td>-0.564262</td>\n",
       "      <td>-0.565802</td>\n",
       "    </tr>\n",
       "  </tbody>\n",
       "</table>\n",
       "</div>"
      ],
      "text/plain": [
       "       Area  Bedrooms  Bathrooms    Floors  YearBuilt  Condition    Garage  \\\n",
       "0 -1.101471  1.401791   1.305568  1.244151   0.238155  -1.316267 -0.962695   \n",
       "1  1.147485  1.401791   1.305568  1.244151  -0.095942  -1.316267 -0.962695   \n",
       "2  0.622317 -0.704581  -0.498326  1.244151  -0.652770   0.460072 -0.962695   \n",
       "3 -1.405759  0.699667  -0.498326  0.008035  -1.655061  -0.428098  1.038750   \n",
       "4  1.652574 -1.406705   1.305568  0.008035   0.377363  -0.428098  1.038750   \n",
       "\n",
       "      Price  Location_Downtown  Location_Rural  Location_Suburban  \\\n",
       "0 -1.403091           1.607554       -0.557329          -0.564262   \n",
       "1 -0.407725           1.607554       -0.557329          -0.564262   \n",
       "2 -0.980356           1.607554       -0.557329          -0.564262   \n",
       "3 -1.062589          -0.622063       -0.557329           1.772226   \n",
       "4  0.355982           1.607554       -0.557329          -0.564262   \n",
       "\n",
       "   Location_Urban  \n",
       "0       -0.565802  \n",
       "1       -0.565802  \n",
       "2       -0.565802  \n",
       "3       -0.565802  \n",
       "4       -0.565802  "
      ]
     },
     "execution_count": 22,
     "metadata": {},
     "output_type": "execute_result"
    }
   ],
   "source": [
    "x.head(5)"
   ]
  },
  {
   "cell_type": "markdown",
   "id": "ee34b9b9",
   "metadata": {
    "papermill": {
     "duration": 0.049206,
     "end_time": "2025-04-29T06:20:11.607297",
     "exception": false,
     "start_time": "2025-04-29T06:20:11.558091",
     "status": "completed"
    },
    "tags": []
   },
   "source": [
    "# Model Training\n"
   ]
  },
  {
   "cell_type": "code",
   "execution_count": 23,
   "id": "1733fe1f",
   "metadata": {
    "execution": {
     "iopub.execute_input": "2025-04-29T06:20:11.623763Z",
     "iopub.status.busy": "2025-04-29T06:20:11.623172Z",
     "iopub.status.idle": "2025-04-29T06:20:11.720827Z",
     "shell.execute_reply": "2025-04-29T06:20:11.720273Z"
    },
    "papermill": {
     "duration": 0.107345,
     "end_time": "2025-04-29T06:20:11.722077",
     "exception": false,
     "start_time": "2025-04-29T06:20:11.614732",
     "status": "completed"
    },
    "tags": []
   },
   "outputs": [],
   "source": [
    "from sklearn.model_selection import train_test_split\n"
   ]
  },
  {
   "cell_type": "code",
   "execution_count": 24,
   "id": "d9ecd051",
   "metadata": {
    "execution": {
     "iopub.execute_input": "2025-04-29T06:20:11.738543Z",
     "iopub.status.busy": "2025-04-29T06:20:11.738289Z",
     "iopub.status.idle": "2025-04-29T06:20:11.743550Z",
     "shell.execute_reply": "2025-04-29T06:20:11.743000Z"
    },
    "papermill": {
     "duration": 0.014745,
     "end_time": "2025-04-29T06:20:11.744829",
     "exception": false,
     "start_time": "2025-04-29T06:20:11.730084",
     "status": "completed"
    },
    "tags": []
   },
   "outputs": [],
   "source": [
    "x_train,x_test,y_train,y_test = train_test_split(x,y,test_size = 0.2)"
   ]
  },
  {
   "cell_type": "code",
   "execution_count": 25,
   "id": "08306c5b",
   "metadata": {
    "execution": {
     "iopub.execute_input": "2025-04-29T06:20:11.762231Z",
     "iopub.status.busy": "2025-04-29T06:20:11.761980Z",
     "iopub.status.idle": "2025-04-29T06:20:12.094498Z",
     "shell.execute_reply": "2025-04-29T06:20:12.093938Z"
    },
    "papermill": {
     "duration": 0.342559,
     "end_time": "2025-04-29T06:20:12.095814",
     "exception": false,
     "start_time": "2025-04-29T06:20:11.753255",
     "status": "completed"
    },
    "tags": []
   },
   "outputs": [],
   "source": [
    "from sklearn.ensemble import GradientBoostingRegressor\n",
    "from sklearn.metrics import mean_squared_error, r2_score\n"
   ]
  },
  {
   "cell_type": "code",
   "execution_count": 26,
   "id": "ccdba0f3",
   "metadata": {
    "execution": {
     "iopub.execute_input": "2025-04-29T06:20:12.113721Z",
     "iopub.status.busy": "2025-04-29T06:20:12.113397Z",
     "iopub.status.idle": "2025-04-29T06:20:12.340544Z",
     "shell.execute_reply": "2025-04-29T06:20:12.339843Z"
    },
    "papermill": {
     "duration": 0.237557,
     "end_time": "2025-04-29T06:20:12.341699",
     "exception": false,
     "start_time": "2025-04-29T06:20:12.104142",
     "status": "completed"
    },
    "tags": []
   },
   "outputs": [
    {
     "data": {
      "text/html": [
       "<style>#sk-container-id-1 {color: black;background-color: white;}#sk-container-id-1 pre{padding: 0;}#sk-container-id-1 div.sk-toggleable {background-color: white;}#sk-container-id-1 label.sk-toggleable__label {cursor: pointer;display: block;width: 100%;margin-bottom: 0;padding: 0.3em;box-sizing: border-box;text-align: center;}#sk-container-id-1 label.sk-toggleable__label-arrow:before {content: \"▸\";float: left;margin-right: 0.25em;color: #696969;}#sk-container-id-1 label.sk-toggleable__label-arrow:hover:before {color: black;}#sk-container-id-1 div.sk-estimator:hover label.sk-toggleable__label-arrow:before {color: black;}#sk-container-id-1 div.sk-toggleable__content {max-height: 0;max-width: 0;overflow: hidden;text-align: left;background-color: #f0f8ff;}#sk-container-id-1 div.sk-toggleable__content pre {margin: 0.2em;color: black;border-radius: 0.25em;background-color: #f0f8ff;}#sk-container-id-1 input.sk-toggleable__control:checked~div.sk-toggleable__content {max-height: 200px;max-width: 100%;overflow: auto;}#sk-container-id-1 input.sk-toggleable__control:checked~label.sk-toggleable__label-arrow:before {content: \"▾\";}#sk-container-id-1 div.sk-estimator input.sk-toggleable__control:checked~label.sk-toggleable__label {background-color: #d4ebff;}#sk-container-id-1 div.sk-label input.sk-toggleable__control:checked~label.sk-toggleable__label {background-color: #d4ebff;}#sk-container-id-1 input.sk-hidden--visually {border: 0;clip: rect(1px 1px 1px 1px);clip: rect(1px, 1px, 1px, 1px);height: 1px;margin: -1px;overflow: hidden;padding: 0;position: absolute;width: 1px;}#sk-container-id-1 div.sk-estimator {font-family: monospace;background-color: #f0f8ff;border: 1px dotted black;border-radius: 0.25em;box-sizing: border-box;margin-bottom: 0.5em;}#sk-container-id-1 div.sk-estimator:hover {background-color: #d4ebff;}#sk-container-id-1 div.sk-parallel-item::after {content: \"\";width: 100%;border-bottom: 1px solid gray;flex-grow: 1;}#sk-container-id-1 div.sk-label:hover label.sk-toggleable__label {background-color: #d4ebff;}#sk-container-id-1 div.sk-serial::before {content: \"\";position: absolute;border-left: 1px solid gray;box-sizing: border-box;top: 0;bottom: 0;left: 50%;z-index: 0;}#sk-container-id-1 div.sk-serial {display: flex;flex-direction: column;align-items: center;background-color: white;padding-right: 0.2em;padding-left: 0.2em;position: relative;}#sk-container-id-1 div.sk-item {position: relative;z-index: 1;}#sk-container-id-1 div.sk-parallel {display: flex;align-items: stretch;justify-content: center;background-color: white;position: relative;}#sk-container-id-1 div.sk-item::before, #sk-container-id-1 div.sk-parallel-item::before {content: \"\";position: absolute;border-left: 1px solid gray;box-sizing: border-box;top: 0;bottom: 0;left: 50%;z-index: -1;}#sk-container-id-1 div.sk-parallel-item {display: flex;flex-direction: column;z-index: 1;position: relative;background-color: white;}#sk-container-id-1 div.sk-parallel-item:first-child::after {align-self: flex-end;width: 50%;}#sk-container-id-1 div.sk-parallel-item:last-child::after {align-self: flex-start;width: 50%;}#sk-container-id-1 div.sk-parallel-item:only-child::after {width: 0;}#sk-container-id-1 div.sk-dashed-wrapped {border: 1px dashed gray;margin: 0 0.4em 0.5em 0.4em;box-sizing: border-box;padding-bottom: 0.4em;background-color: white;}#sk-container-id-1 div.sk-label label {font-family: monospace;font-weight: bold;display: inline-block;line-height: 1.2em;}#sk-container-id-1 div.sk-label-container {text-align: center;}#sk-container-id-1 div.sk-container {/* jupyter's `normalize.less` sets `[hidden] { display: none; }` but bootstrap.min.css set `[hidden] { display: none !important; }` so we also need the `!important` here to be able to override the default hidden behavior on the sphinx rendered scikit-learn.org. See: https://github.com/scikit-learn/scikit-learn/issues/21755 */display: inline-block !important;position: relative;}#sk-container-id-1 div.sk-text-repr-fallback {display: none;}</style><div id=\"sk-container-id-1\" class=\"sk-top-container\"><div class=\"sk-text-repr-fallback\"><pre>GradientBoostingRegressor()</pre><b>In a Jupyter environment, please rerun this cell to show the HTML representation or trust the notebook. <br />On GitHub, the HTML representation is unable to render, please try loading this page with nbviewer.org.</b></div><div class=\"sk-container\" hidden><div class=\"sk-item\"><div class=\"sk-estimator sk-toggleable\"><input class=\"sk-toggleable__control sk-hidden--visually\" id=\"sk-estimator-id-1\" type=\"checkbox\" checked><label for=\"sk-estimator-id-1\" class=\"sk-toggleable__label sk-toggleable__label-arrow\">GradientBoostingRegressor</label><div class=\"sk-toggleable__content\"><pre>GradientBoostingRegressor()</pre></div></div></div></div></div>"
      ],
      "text/plain": [
       "GradientBoostingRegressor()"
      ]
     },
     "execution_count": 26,
     "metadata": {},
     "output_type": "execute_result"
    }
   ],
   "source": [
    " \n",
    "model = GradientBoostingRegressor(n_estimators=100, learning_rate=0.1)\n",
    "model.fit(x_train, y_train)"
   ]
  },
  {
   "cell_type": "code",
   "execution_count": 27,
   "id": "741838ca",
   "metadata": {
    "execution": {
     "iopub.execute_input": "2025-04-29T06:20:12.359094Z",
     "iopub.status.busy": "2025-04-29T06:20:12.358905Z",
     "iopub.status.idle": "2025-04-29T06:20:12.366347Z",
     "shell.execute_reply": "2025-04-29T06:20:12.365423Z"
    },
    "papermill": {
     "duration": 0.017137,
     "end_time": "2025-04-29T06:20:12.367652",
     "exception": false,
     "start_time": "2025-04-29T06:20:12.350515",
     "status": "completed"
    },
    "tags": []
   },
   "outputs": [
    {
     "name": "stdout",
     "output_type": "stream",
     "text": [
      "R2 Score: 0.9999470597951277\n",
      "RMSE: 2007.6418617699069\n"
     ]
    }
   ],
   "source": [
    " \n",
    "y_pred = model.predict(x_test)\n",
    "print(\"R2 Score:\", r2_score(y_test, y_pred))\n",
    "print(\"RMSE:\", mean_squared_error(y_test, y_pred, squared=False))"
   ]
  },
  {
   "cell_type": "code",
   "execution_count": 28,
   "id": "ee04a7e6",
   "metadata": {
    "execution": {
     "iopub.execute_input": "2025-04-29T06:20:12.383495Z",
     "iopub.status.busy": "2025-04-29T06:20:12.383249Z",
     "iopub.status.idle": "2025-04-29T06:20:12.546744Z",
     "shell.execute_reply": "2025-04-29T06:20:12.546006Z"
    },
    "papermill": {
     "duration": 0.172389,
     "end_time": "2025-04-29T06:20:12.547837",
     "exception": false,
     "start_time": "2025-04-29T06:20:12.375448",
     "status": "completed"
    },
    "tags": []
   },
   "outputs": [
    {
     "data": {
      "image/png": "[encoded data removed]",
      "text/plain": [
       "<Figure size 640x480 with 1 Axes>"
      ]
     },
     "metadata": {},
     "output_type": "display_data"
    }
   ],
   "source": [
    "import matplotlib.pyplot as plt\n",
    "\n",
    "plt.scatter(y_test, y_pred, alpha=0.7)\n",
    "plt.xlabel(\"Actual Price\")\n",
    "plt.ylabel(\"Predicted Price\")\n",
    "plt.title(\"Actual vs Predicted House Prices\")\n",
    "plt.plot([y_test.min(), y_test.max()], [y_test.min(), y_test.max()], color='red')\n",
    "plt.grid(True)\n",
    "plt.show()\n"
   ]
  },
  {
   "cell_type": "markdown",
   "id": "52f20070",
   "metadata": {
    "papermill": {
     "duration": 0.008141,
     "end_time": "2025-04-29T06:20:12.564891",
     "exception": false,
     "start_time": "2025-04-29T06:20:12.556750",
     "status": "completed"
    },
    "tags": []
   },
   "source": [
    "# Predictions"
   ]
  },
  {
   "cell_type": "code",
   "execution_count": 29,
   "id": "ca27e12e",
   "metadata": {
    "execution": {
     "iopub.execute_input": "2025-04-29T06:20:12.582174Z",
     "iopub.status.busy": "2025-04-29T06:20:12.581966Z",
     "iopub.status.idle": "2025-04-29T06:20:12.586126Z",
     "shell.execute_reply": "2025-04-29T06:20:12.585458Z"
    },
    "papermill": {
     "duration": 0.014015,
     "end_time": "2025-04-29T06:20:12.587229",
     "exception": false,
     "start_time": "2025-04-29T06:20:12.573214",
     "status": "completed"
    },
    "tags": []
   },
   "outputs": [],
   "source": [
    "def predict_house_price(model, scaler, X_train_columns, input_dict):\n",
    "  \n",
    "    input_df = pd.DataFrame([input_dict])\n",
    "\n",
    "    input_encoded = pd.get_dummies(input_df)\n",
    "\n",
    "    input_aligned = input_encoded.reindex(columns=X_train_columns, fill_value=0)\n",
    " \n",
    "    input_scaled = scaler.transform(input_aligned)\n",
    " \n",
    "    input_scaled_df = pd.DataFrame(input_scaled, columns=X_train_columns)\n",
    " \n",
    "    prediction = model.predict(input_scaled_df)\n",
    "\n",
    "    return round(prediction[0], 2)\n"
   ]
  },
  {
   "cell_type": "code",
   "execution_count": 30,
   "id": "4752d51e",
   "metadata": {
    "execution": {
     "iopub.execute_input": "2025-04-29T06:20:12.604626Z",
     "iopub.status.busy": "2025-04-29T06:20:12.604407Z",
     "iopub.status.idle": "2025-04-29T06:20:12.616060Z",
     "shell.execute_reply": "2025-04-29T06:20:12.615172Z"
    },
    "papermill": {
     "duration": 0.021585,
     "end_time": "2025-04-29T06:20:12.617325",
     "exception": false,
     "start_time": "2025-04-29T06:20:12.595740",
     "status": "completed"
    },
    "tags": []
   },
   "outputs": [
    {
     "name": "stdout",
     "output_type": "stream",
     "text": [
      "Predicted Price: 51076.13\n"
     ]
    }
   ],
   "source": [
    " \n",
    "new_house = {\n",
    "    \"Area\": 3000,\n",
    "    \"Bedrooms\": 4,\n",
    "    \"Bathrooms\": 2,\n",
    "    \"Floors\": 2,\n",
    "    \"YearBuilt\": 2010,\n",
    "    \"Location\": \"Downtown\",\n",
    "    \"Condition\": \"Good\",\n",
    "    \"Garage\": \"No\"\n",
    "}\n",
    "\n",
    " \n",
    "price = predict_house_price(model, scaler, x_train.columns, new_house)\n",
    "\n",
    "print(\"Predicted Price:\", price)\n"
   ]
  }
 ],
 "metadata": {
  "kaggle": {
   "accelerator": "nvidiaTeslaT4",
   "dataSources": [
    {
     "datasetId": 5744880,
     "sourceId": 9451387,
     "sourceType": "datasetVersion"
    }
   ],
   "dockerImageVersionId": 31011,
   "isGpuEnabled": true,
   "isInternetEnabled": true,
   "language": "python",
   "sourceType": "notebook"
  },
  "kernelspec": {
   "display_name": "Python 3",
   "language": "python",
   "name": "python3"
  },
  "language_info": {
   "codemirror_mode": {
    "name": "ipython",
    "version": 3
   },
   "file_extension": ".py",
   "mimetype": "text/x-python",
   "name": "python",
   "nbconvert_exporter": "python",
   "pygments_lexer": "ipython3",
   "version": "3.11.11"
  },
  "papermill": {
   "default_parameters": {},
   "duration": 10.643757,
   "end_time": "2025-04-29T06:20:13.042655",
   "environment_variables": {},
   "exception": null,
   "input_path": "__notebook__.ipynb",
   "output_path": "__notebook__.ipynb",
   "parameters": {},
   "start_time": "2025-04-29T06:20:02.398898",
   "version": "2.6.0"
  }
 },
 "nbformat": 4,
 "nbformat_minor": 5
}
